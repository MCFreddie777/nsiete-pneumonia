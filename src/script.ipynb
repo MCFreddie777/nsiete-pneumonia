{
 "cells": [
  {
   "cell_type": "markdown",
   "metadata": {
    "id": "Aes0zGpca267"
   },
   "source": [
    "# [NSIETE] Pneumonia"
   ]
  },
  {
   "cell_type": "markdown",
   "metadata": {
    "id": "-KoFnEy-tBgt"
   },
   "source": [
    "Dataset pochádza z [https://www.kaggle.com/tolgadincer/labeled-chest-xray-images](https://www.kaggle.com/tolgadincer/labeled-chest-xray-images). Obsahuje rontgenové snímky pľúc pacientov rozdelených do dvoch tried - tí, ktorí trpia pneumóniou (akútny zápal pľúc vírusového alebo bakteriálneho pôvodu) a rontgenové snímky pacientov so zdravými pľúcami, resp. pacientami netrpiacimi pneumóniou."
   ]
  },
  {
   "cell_type": "code",
   "execution_count": null,
   "metadata": {},
   "outputs": [],
   "source": [
    "!pip install tensorflow seedir numpy matplotlib tensorflow_addons wandb >> '/dev/null'"
   ]
  },
  {
   "cell_type": "code",
   "execution_count": null,
   "metadata": {
    "id": "CWrl8QVt0THN"
   },
   "outputs": [],
   "source": [
    "import os\n",
    "import re\n",
    "\n",
    "import matplotlib.pyplot as plt\n",
    "import numpy as np\n",
    "from zipfile import ZipFile\n",
    "from PIL import Image\n",
    "import seedir as sd\n",
    "import wandb\n",
    "\n",
    "import tensorflow as tf\n",
    "from tensorflow import keras\n",
    "from tensorflow.keras import layers\n",
    "from tensorflow.keras.models import Sequential\n",
    "import tensorflow_addons as tfa"
   ]
  },
  {
   "cell_type": "markdown",
   "metadata": {
    "id": "bp70wXL1cMJ8"
   },
   "source": [
    "### Spracovanie datasetu"
   ]
  },
  {
   "cell_type": "code",
   "execution_count": null,
   "metadata": {
    "id": "i1FGSdawUlwG"
   },
   "outputs": [],
   "source": [
    "data_path = '../data'\n",
    "data_compressed_filename = 'archive.zip'\n",
    "data_extracted_foldername = 'chest_xray'"
   ]
  },
  {
   "cell_type": "code",
   "execution_count": null,
   "metadata": {
    "id": "aCI-U8Yv0wVT"
   },
   "outputs": [],
   "source": [
    "# extract data \n",
    "if not (os.path.exists(f\"{data_path}/{data_extracted_foldername}\")):\n",
    "    print('Extracting...')\n",
    "    with ZipFile(f'{data_path}/{data_compressed_filename}', 'r') as zip:\n",
    "        zip.extractall(f'{data_path}/')     "
   ]
  },
  {
   "cell_type": "markdown",
   "metadata": {
    "id": "LsT59Unrp0rD"
   },
   "source": [
    "Pozrieme sa na štruktúru a počty dát."
   ]
  },
  {
   "cell_type": "code",
   "execution_count": null,
   "metadata": {
    "colab": {
     "base_uri": "https://localhost:8080/"
    },
    "id": "o0LPajHypGef",
    "outputId": "91bfde98-e9e6-455d-f564-613a071edf98"
   },
   "outputs": [],
   "source": [
    ">>> sd.seedir(f'{data_path}/{data_extracted_foldername}', style='spaces', indent=2, anystart='- ',depthlimit=2)"
   ]
  },
  {
   "cell_type": "code",
   "execution_count": null,
   "metadata": {
    "id": "18Lz4fZIp7_p"
   },
   "outputs": [],
   "source": [
    "def list_class_dir(path):\n",
    "    class_count = dict()\n",
    "    for subfolder in os.listdir(path):   \n",
    "        if not subfolder.startswith('.'):\n",
    "            class_count[subfolder] = len(os.listdir(f'{path}/{subfolder}'))\n",
    "\n",
    "    return class_count\n",
    "    \n",
    "train = list_class_dir(f'{data_path}/{data_extracted_foldername}/train')"
   ]
  },
  {
   "cell_type": "code",
   "execution_count": null,
   "metadata": {
    "colab": {
     "base_uri": "https://localhost:8080/",
     "height": 281
    },
    "id": "dPIBDXf2rd-x",
    "outputId": "8caef592-6c41-4111-ae8b-b981f124c50d"
   },
   "outputs": [],
   "source": [
    "plt.bar(dict.keys(train),dict.values(train),color=['b','c'])"
   ]
  },
  {
   "cell_type": "markdown",
   "metadata": {
    "id": "wCFAXIips5NK"
   },
   "source": [
    "Vidíme že naše triedy sú nevyvážené - počet snímkov pacientov trpiacich pneumóniou viacnásobne prevyšuje zdravých pacientov. Rozhodli sme sa teda vyrovnať počty snímkov tým, že nagenerujeme snímky náhodným otáčaním snímok zdravých jedincov z trénovacieho datasetu o +-5 stupňov."
   ]
  },
  {
   "cell_type": "code",
   "execution_count": null,
   "metadata": {
    "colab": {
     "base_uri": "https://localhost:8080/",
     "height": 281
    },
    "id": "DxxbgsFV0wPT",
    "outputId": "a547b757-0d83-489b-c8b7-fa6a0f42a553"
   },
   "outputs": [],
   "source": [
    "list = ['r5', 'r-5-']\n",
    "\n",
    "def rotateImages(rotationAmt, naming, images_path ):\n",
    "  # for each image in the current directory\n",
    "    for image in os.listdir(images_path):\n",
    "        # open the image and check whether it was not previously rotated\n",
    "        if not any([x in image for x in list]): \n",
    "            img = Image.open(f'{images_path}/{image}')\n",
    "            img = img.rotate(rotationAmt)\n",
    "            img.save(f'{images_path}/{naming}-{image}', 'JPEG')\n",
    "\n",
    "\n",
    "# rotate data in case the folder doesn't contain any rotated files\n",
    "images_path = f'{data_path}/{data_extracted_foldername}/train/NORMAL'\n",
    "res = any(re.search(r'r5-*', f) for f in os.listdir(images_path))\n",
    "if not (res):\n",
    "    rotateImages(5, 'r5', images_path)\n",
    "    rotateImages(-5, 'r-5', images_path)\n",
    "\n",
    "\n",
    "train = list_class_dir(f'{data_path}/{data_extracted_foldername}/train')\n",
    "plt.bar(dict.keys(train),dict.values(train),color=['b','c'])"
   ]
  },
  {
   "cell_type": "markdown",
   "metadata": {
    "id": "K8oz9KPFAhfh"
   },
   "source": [
    "Môžme vidieť že sa nám podarilo vyrovnať počet dát v jednotlivých triedach."
   ]
  },
  {
   "cell_type": "markdown",
   "metadata": {
    "id": "VOjr0RYEA8FJ"
   },
   "source": [
    "### Trénovanie modelu"
   ]
  },
  {
   "cell_type": "code",
   "execution_count": null,
   "metadata": {
    "colab": {
     "base_uri": "https://localhost:8080/",
     "height": 66
    },
    "id": "L1fgTrErYO7P",
    "outputId": "6eed5031-0063-4954-8f52-226c4df905fe"
   },
   "outputs": [],
   "source": [
    "wandb.login()"
   ]
  },
  {
   "cell_type": "code",
   "execution_count": null,
   "metadata": {
    "colab": {
     "base_uri": "https://localhost:8080/",
     "height": 133
    },
    "id": "GfYrke9PYh_A",
    "outputId": "6d1eddbb-ab3c-473b-d209-b304f09a1fd8"
   },
   "outputs": [],
   "source": [
    "run = wandb.init(project='pneumonia', entity='nn2021')"
   ]
  },
  {
   "cell_type": "markdown",
   "metadata": {
    "id": "EYEBaOOMA_-I"
   },
   "source": [
    "Nastavíme konfiguráciu modelu - epochy, batch size, loss funkciu, optimizer ... "
   ]
  },
  {
   "cell_type": "code",
   "execution_count": null,
   "metadata": {
    "id": "WEgX8owE0lzZ"
   },
   "outputs": [],
   "source": [
    "optimizer = 'adam'\n",
    "\n",
    "config = {\n",
    "    'IMAGE_HEIGHT': 224,\n",
    "    'IMAGE_WIDTH': 224,\n",
    "    'CLASSES': 2,\n",
    "    \"EPOCHS\": 3,\n",
    "    \"BATCH_SIZE\": 256,\n",
    "    \"LEARNING_RATE\": 0.0001,\n",
    "    \"EPSILON\": 1e-07,\n",
    "    'LOSS': tf.keras.losses.BinaryCrossentropy(from_logits=True),\n",
    "    'DENSE': 256,\n",
    "    'EARLYSTOPPING': True\n",
    "}\n",
    "\n",
    "if (optimizer == 'adam'):\n",
    "    config['OPTIMIZER'] = keras.optimizers.Adam(\n",
    "        learning_rate=config['LEARNING_RATE'],\n",
    "        epsilon=config['EPSILON']\n",
    "    )\n",
    "else:\n",
    "    config[\"RHO\"] = 0.9\n",
    "    config['MOMENTUM'] = 0.5\n",
    "    config['OPTIMIZER'] = keras.optimizers.RMSprop(\n",
    "        learning_rate=config['LEARNING_RATE'],\n",
    "        rho=config['RHO'],\n",
    "        momentum=config['MOMENTUM'],\n",
    "        epsilon=config['EPSILON'], \n",
    "    )\n",
    "\n",
    "# if config['EARLYSTOPPING'] :\n",
    "#   config['callbacks'] = [\n",
    "#                          WandbCallback(),\n",
    "#                          tf.keras.callbacks.EarlyStopping(monitor='val_Recall') \n",
    "#                          ]\n",
    "# else:\n",
    "#   config['callbacks'] = [WandbCallback()]\n",
    "\n",
    "# wandb.config.update(config)\n"
   ]
  },
  {
   "cell_type": "markdown",
   "metadata": {
    "id": "hHIgtVL7BNQm"
   },
   "source": [
    "Načítame testovacie aj trénovacie dáta."
   ]
  },
  {
   "cell_type": "code",
   "execution_count": null,
   "metadata": {
    "colab": {
     "base_uri": "https://localhost:8080/"
    },
    "id": "CavyTEUA0wSw",
    "outputId": "a2ebed39-0574-4c6e-d555-7829ecad65e3"
   },
   "outputs": [],
   "source": [
    "def load_data(filepath, datatype):\n",
    "    return tf.keras.preprocessing.image_dataset_from_directory(\n",
    "        f'{filepath}/{datatype}',\n",
    "        seed=123,\n",
    "        image_size=(config['IMAGE_HEIGHT'], config['IMAGE_WIDTH']),\n",
    "        label_mode = None,\n",
    "        class_names=None,\n",
    "    )\n",
    "\n",
    "train = load_data(f'{data_path}/{data_extracted_foldername}','train')\n",
    "test = load_data(f'{data_path}/{data_extracted_foldername}','test')"
   ]
  },
  {
   "cell_type": "code",
   "execution_count": null,
   "metadata": {
    "id": "r7D4sZpvW1ed"
   },
   "outputs": [],
   "source": [
    "train_dataset = tf.data.Dataset.from_tensor_slices(train).shuffle(60000).batch(256)"
   ]
  },
  {
   "cell_type": "code",
   "execution_count": null,
   "metadata": {
    "colab": {
     "base_uri": "https://localhost:8080/"
    },
    "id": "-Sb6O0BFV6LT",
    "outputId": "13390d39-b77c-44c8-f81c-194b253ce7fd"
   },
   "outputs": [],
   "source": [
    "image_sequence = an_image.getdata()\n",
    "image_array = np.array(image_sequence)\n",
    "\n",
    "print(image_array.shape)"
   ]
  },
  {
   "cell_type": "markdown",
   "metadata": {
    "id": "2jlHy_8WBk13"
   },
   "source": [
    "Pozrieme sa na ukážku obrázkových dát v našej sade:"
   ]
  },
  {
   "cell_type": "code",
   "execution_count": null,
   "metadata": {
    "id": "3FGCnXyg8nkJ"
   },
   "outputs": [],
   "source": [
    "plt.figure(figsize=(10, 10))\n",
    "for images, labels in train.take(1):\n",
    "    for i in range(9):\n",
    "        ax = plt.subplot(3, 3, i + 1)\n",
    "        plt.imshow(images[i].numpy().astype(\"uint8\"))\n",
    "        plt.title(class_names[labels[i]])\n",
    "        plt.axis(\"off\")"
   ]
  },
  {
   "cell_type": "markdown",
   "metadata": {
    "id": "rU4XyzbDByQi"
   },
   "source": [
    "Pre potreby rýchlejšieho I/O nastavíme buffery pre cachovanie."
   ]
  },
  {
   "cell_type": "code",
   "execution_count": null,
   "metadata": {
    "id": "9Jq80BYbcCg8"
   },
   "outputs": [],
   "source": [
    "AUTOTUNE = tf.data.AUTOTUNE\n",
    "\n",
    "train = train.cache().shuffle(1000).prefetch(buffer_size=AUTOTUNE)\n",
    "test = test.cache().prefetch(buffer_size=AUTOTUNE)"
   ]
  },
  {
   "cell_type": "markdown",
   "metadata": {
    "id": "ZzuNFtQWB5lk"
   },
   "source": [
    "Zadefinujeme model našej konvolučnej siete"
   ]
  },
  {
   "cell_type": "code",
   "execution_count": null,
   "metadata": {
    "id": "6WNs_SgVYwuJ"
   },
   "outputs": [],
   "source": [
    "model = Sequential([\n",
    "  layers.experimental.preprocessing.Rescaling(1./255, input_shape=(config['IMAGE_HEIGHT'], config['IMAGE_WIDTH'], 3)),\n",
    "  \n",
    "  tfa.layers.WeightNormalization(layers.Conv2D(32, 3, padding='same', activation='relu', dilation_rate=(1, 1) )),\n",
    "  layers.MaxPooling2D(),\n",
    "  \n",
    "  tfa.layers.WeightNormalization(layers.Conv2D(64, 3, padding='same', activation='relu', dilation_rate=(2, 2))),\n",
    "  layers.MaxPooling2D(),\n",
    "\n",
    "  layers.Flatten(),\n",
    "  layers.Dense(config['DENSE'], activation='relu'),\n",
    "  layers.Dense(1, activation='sigmoid')\n",
    "])\n"
   ]
  },
  {
   "cell_type": "code",
   "execution_count": null,
   "metadata": {
    "id": "SQvRCmZPbt1G"
   },
   "outputs": [],
   "source": [
    "model.compile(\n",
    "    optimizer=config['OPTIMIZER'],\n",
    "    loss=config['LOSS'],\n",
    "       metrics=[\n",
    "        'accuracy',\n",
    "        keras.metrics.Precision(name='Precision'), \n",
    "        keras.metrics.Recall(name='Recall'), \n",
    "        keras.metrics.SpecificityAtSensitivity(0.5,name='SpecificityAtSensitivity'), \n",
    "        keras.metrics.SensitivityAtSpecificity(0.5,name='SensitivityAtSpecificity')\n",
    "    ]\n",
    ")"
   ]
  },
  {
   "cell_type": "code",
   "execution_count": null,
   "metadata": {
    "colab": {
     "base_uri": "https://localhost:8080/"
    },
    "id": "xVOAx2_tbtyk",
    "outputId": "899b3dfd-4bd4-4fda-9fc8-d204b9d0c7dd"
   },
   "outputs": [],
   "source": [
    "model.summary()"
   ]
  },
  {
   "cell_type": "markdown",
   "metadata": {
    "id": "8HHWe0BdCDR_"
   },
   "source": [
    "A trénujeme. A plačeme."
   ]
  },
  {
   "cell_type": "code",
   "execution_count": null,
   "metadata": {
    "colab": {
     "base_uri": "https://localhost:8080/"
    },
    "id": "HFmX8TFWbwaV",
    "outputId": "e626597b-5e2b-447f-d658-1337106d41a6"
   },
   "outputs": [],
   "source": [
    "model.fit(\n",
    "  train,\n",
    "  epochs=config[\"EPOCHS\"], \n",
    "  batch_size=config[\"BATCH_SIZE\"], \n",
    "  validation_data=test,\n",
    "  callbacks=config[\"callbacks\"]\n",
    ")"
   ]
  },
  {
   "cell_type": "markdown",
   "metadata": {
    "id": "I8c1RNoGCHUz"
   },
   "source": [
    "Nakoniec už len nahráme dáta do wandb"
   ]
  },
  {
   "cell_type": "code",
   "execution_count": null,
   "metadata": {
    "colab": {
     "base_uri": "https://localhost:8080/",
     "height": 887,
     "referenced_widgets": [
      "2f997c3d55e14351a8658caed4bd604d",
      "1797667929ca4be3af4bff0a535b9950",
      "d0e50f7a7bf54d45bb6c5cba4e09ae30",
      "bb4af98025c3441398d7ef6d278c5a3b",
      "76653771404f407c8572c1ddf23cce58",
      "7f7f04432d5a4ca8a56498e86870a091",
      "d8f86410dcba402785be8d3727ef3e81",
      "bbd27fb3218b4c2d8d239c30467ff10e"
     ]
    },
    "id": "W1J9OG2Jb5wt",
    "outputId": "476c6422-d1c4-464a-9311-0558c35eedd6"
   },
   "outputs": [],
   "source": [
    "run.finish()"
   ]
  }
 ],
 "metadata": {
  "accelerator": "GPU",
  "colab": {
   "collapsed_sections": [],
   "name": "Pneumonia.ipynb",
   "provenance": [],
   "toc_visible": true
  },
  "kernelspec": {
   "display_name": "Python 3",
   "language": "python",
   "name": "python3"
  },
  "language_info": {
   "codemirror_mode": {
    "name": "ipython",
    "version": 3
   },
   "file_extension": ".py",
   "mimetype": "text/x-python",
   "name": "python",
   "nbconvert_exporter": "python",
   "pygments_lexer": "ipython3",
   "version": "3.8.8"
  },
  "widgets": {
   "application/vnd.jupyter.widget-state+json": {
    "1797667929ca4be3af4bff0a535b9950": {
     "model_module": "@jupyter-widgets/base",
     "model_name": "LayoutModel",
     "state": {
      "_model_module": "@jupyter-widgets/base",
      "_model_module_version": "1.2.0",
      "_model_name": "LayoutModel",
      "_view_count": null,
      "_view_module": "@jupyter-widgets/base",
      "_view_module_version": "1.2.0",
      "_view_name": "LayoutView",
      "align_content": null,
      "align_items": null,
      "align_self": null,
      "border": null,
      "bottom": null,
      "display": null,
      "flex": null,
      "flex_flow": null,
      "grid_area": null,
      "grid_auto_columns": null,
      "grid_auto_flow": null,
      "grid_auto_rows": null,
      "grid_column": null,
      "grid_gap": null,
      "grid_row": null,
      "grid_template_areas": null,
      "grid_template_columns": null,
      "grid_template_rows": null,
      "height": null,
      "justify_content": null,
      "justify_items": null,
      "left": null,
      "margin": null,
      "max_height": null,
      "max_width": null,
      "min_height": null,
      "min_width": null,
      "object_fit": null,
      "object_position": null,
      "order": null,
      "overflow": null,
      "overflow_x": null,
      "overflow_y": null,
      "padding": null,
      "right": null,
      "top": null,
      "visibility": null,
      "width": null
     }
    },
    "2f997c3d55e14351a8658caed4bd604d": {
     "model_module": "@jupyter-widgets/controls",
     "model_name": "VBoxModel",
     "state": {
      "_dom_classes": [],
      "_model_module": "@jupyter-widgets/controls",
      "_model_module_version": "1.5.0",
      "_model_name": "VBoxModel",
      "_view_count": null,
      "_view_module": "@jupyter-widgets/controls",
      "_view_module_version": "1.5.0",
      "_view_name": "VBoxView",
      "box_style": "",
      "children": [
       "IPY_MODEL_d0e50f7a7bf54d45bb6c5cba4e09ae30",
       "IPY_MODEL_bb4af98025c3441398d7ef6d278c5a3b"
      ],
      "layout": "IPY_MODEL_1797667929ca4be3af4bff0a535b9950"
     }
    },
    "76653771404f407c8572c1ddf23cce58": {
     "model_module": "@jupyter-widgets/controls",
     "model_name": "DescriptionStyleModel",
     "state": {
      "_model_module": "@jupyter-widgets/controls",
      "_model_module_version": "1.5.0",
      "_model_name": "DescriptionStyleModel",
      "_view_count": null,
      "_view_module": "@jupyter-widgets/base",
      "_view_module_version": "1.2.0",
      "_view_name": "StyleView",
      "description_width": ""
     }
    },
    "7f7f04432d5a4ca8a56498e86870a091": {
     "model_module": "@jupyter-widgets/base",
     "model_name": "LayoutModel",
     "state": {
      "_model_module": "@jupyter-widgets/base",
      "_model_module_version": "1.2.0",
      "_model_name": "LayoutModel",
      "_view_count": null,
      "_view_module": "@jupyter-widgets/base",
      "_view_module_version": "1.2.0",
      "_view_name": "LayoutView",
      "align_content": null,
      "align_items": null,
      "align_self": null,
      "border": null,
      "bottom": null,
      "display": null,
      "flex": null,
      "flex_flow": null,
      "grid_area": null,
      "grid_auto_columns": null,
      "grid_auto_flow": null,
      "grid_auto_rows": null,
      "grid_column": null,
      "grid_gap": null,
      "grid_row": null,
      "grid_template_areas": null,
      "grid_template_columns": null,
      "grid_template_rows": null,
      "height": null,
      "justify_content": null,
      "justify_items": null,
      "left": null,
      "margin": null,
      "max_height": null,
      "max_width": null,
      "min_height": null,
      "min_width": null,
      "object_fit": null,
      "object_position": null,
      "order": null,
      "overflow": null,
      "overflow_x": null,
      "overflow_y": null,
      "padding": null,
      "right": null,
      "top": null,
      "visibility": null,
      "width": null
     }
    },
    "bb4af98025c3441398d7ef6d278c5a3b": {
     "model_module": "@jupyter-widgets/controls",
     "model_name": "FloatProgressModel",
     "state": {
      "_dom_classes": [],
      "_model_module": "@jupyter-widgets/controls",
      "_model_module_version": "1.5.0",
      "_model_name": "FloatProgressModel",
      "_view_count": null,
      "_view_module": "@jupyter-widgets/controls",
      "_view_module_version": "1.5.0",
      "_view_name": "ProgressView",
      "bar_style": "",
      "description": "",
      "description_tooltip": null,
      "layout": "IPY_MODEL_bbd27fb3218b4c2d8d239c30467ff10e",
      "max": 1,
      "min": 0,
      "orientation": "horizontal",
      "style": "IPY_MODEL_d8f86410dcba402785be8d3727ef3e81",
      "value": 1
     }
    },
    "bbd27fb3218b4c2d8d239c30467ff10e": {
     "model_module": "@jupyter-widgets/base",
     "model_name": "LayoutModel",
     "state": {
      "_model_module": "@jupyter-widgets/base",
      "_model_module_version": "1.2.0",
      "_model_name": "LayoutModel",
      "_view_count": null,
      "_view_module": "@jupyter-widgets/base",
      "_view_module_version": "1.2.0",
      "_view_name": "LayoutView",
      "align_content": null,
      "align_items": null,
      "align_self": null,
      "border": null,
      "bottom": null,
      "display": null,
      "flex": null,
      "flex_flow": null,
      "grid_area": null,
      "grid_auto_columns": null,
      "grid_auto_flow": null,
      "grid_auto_rows": null,
      "grid_column": null,
      "grid_gap": null,
      "grid_row": null,
      "grid_template_areas": null,
      "grid_template_columns": null,
      "grid_template_rows": null,
      "height": null,
      "justify_content": null,
      "justify_items": null,
      "left": null,
      "margin": null,
      "max_height": null,
      "max_width": null,
      "min_height": null,
      "min_width": null,
      "object_fit": null,
      "object_position": null,
      "order": null,
      "overflow": null,
      "overflow_x": null,
      "overflow_y": null,
      "padding": null,
      "right": null,
      "top": null,
      "visibility": null,
      "width": null
     }
    },
    "d0e50f7a7bf54d45bb6c5cba4e09ae30": {
     "model_module": "@jupyter-widgets/controls",
     "model_name": "LabelModel",
     "state": {
      "_dom_classes": [],
      "_model_module": "@jupyter-widgets/controls",
      "_model_module_version": "1.5.0",
      "_model_name": "LabelModel",
      "_view_count": null,
      "_view_module": "@jupyter-widgets/controls",
      "_view_module_version": "1.5.0",
      "_view_name": "LabelView",
      "description": "",
      "description_tooltip": null,
      "layout": "IPY_MODEL_7f7f04432d5a4ca8a56498e86870a091",
      "placeholder": "​",
      "style": "IPY_MODEL_76653771404f407c8572c1ddf23cce58",
      "value": " 588.37MB of 588.37MB uploaded (0.00MB deduped)\r"
     }
    },
    "d8f86410dcba402785be8d3727ef3e81": {
     "model_module": "@jupyter-widgets/controls",
     "model_name": "ProgressStyleModel",
     "state": {
      "_model_module": "@jupyter-widgets/controls",
      "_model_module_version": "1.5.0",
      "_model_name": "ProgressStyleModel",
      "_view_count": null,
      "_view_module": "@jupyter-widgets/base",
      "_view_module_version": "1.2.0",
      "_view_name": "StyleView",
      "bar_color": null,
      "description_width": ""
     }
    }
   }
  }
 },
 "nbformat": 4,
 "nbformat_minor": 1
}
